{
 "cells": [
  {
   "cell_type": "markdown",
   "metadata": {},
   "source": [
    "# 50.039 Deep Learning Project\n",
    "\n",
    "Group Members:\n",
    "- Lee Chang Zheng\n",
    "- Lee Cheng Xin\n",
    "- Jason Peng Jing Ming"
   ]
  },
  {
   "cell_type": "markdown",
   "metadata": {},
   "source": [
    "## Imports"
   ]
  },
  {
   "cell_type": "code",
   "execution_count": 17,
   "metadata": {},
   "outputs": [],
   "source": [
    "import torch\n",
    "import torchaudio\n",
    "from torchaudio import transforms\n",
    "from torch.utils.data import Dataset, DataLoader, random_split\n",
    "import pandas as pd\n",
    "import os"
   ]
  },
  {
   "cell_type": "markdown",
   "metadata": {},
   "source": [
    "## Converting Audio samples into Spectrograms\n",
    "\n",
    "Before we can begin, we first have to convert the audio samples from .webm format into a standardised format. We will convert the files to .wav with single channel, a sample rate of 48000 Hz, and pad the audio files to 10 seconds long. "
   ]
  },
  {
   "cell_type": "code",
   "execution_count": 18,
   "metadata": {},
   "outputs": [],
   "source": [
    "# Convert webm and ogg files to wav with single channel, sample rate of 48000 Hz, padded to 10 seconds long\n",
    "import subprocess\n",
    "from pydub import AudioSegment\n",
    "\n",
    "def convert_audio(in_path, out_path):\n",
    "    if '.webm' in in_path:\n",
    "        subprocess.run([\"ffmpeg\", \"-i\", in_path, \"-y\", \"-ac\", \"1\", \"-ar\", \"48000\", out_path.replace('.webm', '.wav')])\n",
    "    elif '.ogg' in in_path:\n",
    "        subprocess.run([\"ffmpeg\", \"-i\", in_path, \"-y\", \"-ac\", \"1\", \"-ar\", \"48000\", out_path.replace('.ogg', '.wav')])\n",
    "\n",
    "def pad_audio(in_path, out_path):\n",
    "    audio = AudioSegment.from_wav(in_path)\n",
    "    if len(audio) < 10000:\n",
    "        padding = AudioSegment.silent(duration=10000 - len(audio))\n",
    "        padded_audio = audio + padding\n",
    "        padded_audio.export(out_path, format='wav')\n",
    "\n",
    "# Note: These are commented out as the conversion has been done, it is simply for reference. You will need FFmpeg to run this.\n",
    "# for filename in os.listdir('./Data/Covid'):\n",
    "#     convert_audio(f'./Data/Covid/{filename}', f'./Converted/{filename}')\n",
    "# for filename in os.listdir('./Data/Healthy'):\n",
    "#     convert_audio(f'./Data/Healthy/{filename}', f'./Converted/{filename}')\n",
    "\n",
    "# # Padding the audio to 10 seconds long\n",
    "# for filename in os.listdir('./Converted'):\n",
    "#     pad_audio(f'./Converted/{filename}', f'./Converted/{filename}')"
   ]
  },
  {
   "cell_type": "markdown",
   "metadata": {},
   "source": [
    "After standardizing the audio samples, we need to convert them into a Mel Spectrogram for the CNN model to process. "
   ]
  },
  {
   "cell_type": "code",
   "execution_count": 19,
   "metadata": {},
   "outputs": [],
   "source": [
    "# Converts the audio waveform into a spectrogram\n",
    "def audio_to_spec(audio, sample_rate, n_mels=128, n_fft=400, win_length=None, hop_length=None, top_db=80):\n",
    "    mel_spectrogram = transforms.MelSpectrogram(\n",
    "        sample_rate=sample_rate,\n",
    "        n_fft=n_fft,\n",
    "        win_length=win_length,\n",
    "        hop_length=hop_length,\n",
    "        center=True,\n",
    "        pad_mode=\"reflect\",\n",
    "        n_mels=n_mels,\n",
    "    )\n",
    "    \n",
    "    melspec = mel_spectrogram(audio)\n",
    "    \n",
    "    transform = transforms.AmplitudeToDB(top_db=top_db)\n",
    "    final_spec = transform(melspec)\n",
    "    return (final_spec)"
   ]
  },
  {
   "cell_type": "markdown",
   "metadata": {},
   "source": [
    "## Custom Dataset and Dataloader"
   ]
  },
  {
   "cell_type": "code",
   "execution_count": 20,
   "metadata": {},
   "outputs": [],
   "source": [
    "class CovidCoughDataset(Dataset):\n",
    "    def __init__(self, filename, datapath):\n",
    "        self.df = pd.read_excel(filename)\n",
    "        self.datapath = datapath\n",
    "\n",
    "    def __getitem__(self, index):\n",
    "        audio_file = self.datapath + self.df.iloc[index][0] + '.wav'\n",
    "        status = 1 if self.df.iloc[index][1] == 'COVID' else 0        \n",
    "        audio, sample_rate = torchaudio.load(audio_file)\n",
    "        spec = audio_to_spec(audio=audio, sample_rate=sample_rate)\n",
    "        return spec, status\n",
    "        \n",
    "    def __len__(self):        \n",
    "        return len(self.df)"
   ]
  },
  {
   "cell_type": "code",
   "execution_count": 24,
   "metadata": {},
   "outputs": [
    {
     "name": "stdout",
     "output_type": "stream",
     "text": [
      "(tensor([[[-46.4789, -46.4789, -46.4789,  ..., -46.4789, -46.4789, -46.4789],\n",
      "         [-46.4789, -46.4789, -46.4789,  ..., -46.4789, -46.4789, -46.4789],\n",
      "         [-46.4789, -46.4789, -46.4789,  ..., -46.4789, -46.4789, -46.4789],\n",
      "         ...,\n",
      "         [-46.4789, -46.4789, -46.4789,  ..., -46.4789, -46.4789, -46.4789],\n",
      "         [-46.4789, -46.4789, -46.4789,  ..., -46.4789, -46.4789, -46.4789],\n",
      "         [-46.4789, -46.4789, -46.4789,  ..., -46.4789, -46.4789, -46.4789]]]), 0)\n"
     ]
    },
    {
     "name": "stderr",
     "output_type": "stream",
     "text": [
      "C:\\Users\\Lee Chang Zheng\\AppData\\Local\\Temp\\ipykernel_22764\\3832070393.py:7: FutureWarning: Series.__getitem__ treating keys as positions is deprecated. In a future version, integer keys will always be treated as labels (consistent with DataFrame behavior). To access a value by position, use `ser.iloc[pos]`\n",
      "  audio_file = self.datapath + self.df.iloc[index][0] + '.wav'\n",
      "C:\\Users\\Lee Chang Zheng\\AppData\\Local\\Temp\\ipykernel_22764\\3832070393.py:8: FutureWarning: Series.__getitem__ treating keys as positions is deprecated. In a future version, integer keys will always be treated as labels (consistent with DataFrame behavior). To access a value by position, use `ser.iloc[pos]`\n",
      "  status = 1 if self.df.iloc[index][1] == 'COVID' else 0\n",
      "d:\\anaconda3\\envs\\dlproject\\Lib\\site-packages\\torchaudio\\functional\\functional.py:584: UserWarning: At least one mel filterbank has all zero values. The value for `n_mels` (128) may be set too high. Or, the value for `n_freqs` (201) may be set too low.\n",
      "  warnings.warn(\n"
     ]
    }
   ],
   "source": [
    "# Load the dataset\n",
    "batch_size = 16\n",
    "\n",
    "dataset = CovidCoughDataset('./Data/Dataset.xlsx', './Converted/')\n",
    "print(dataset[8])\n",
    "# train_dataset, valid_dataset, test_dataset = random_split(dataset, [0.8, 0.1, 0.1])\n",
    "# train_dataloader = DataLoader(train_dataset, batch_size = batch_size, shuffle=True)\n",
    "# valid_dataloader = DataLoader(valid_dataset, batch_size = batch_size, shuffle=True)\n",
    "# test_dataloader = DataLoader(test_dataset, batch_size = batch_size, shuffle=True)"
   ]
  }
 ],
 "metadata": {
  "kernelspec": {
   "display_name": "dl",
   "language": "python",
   "name": "python3"
  },
  "language_info": {
   "codemirror_mode": {
    "name": "ipython",
    "version": 3
   },
   "file_extension": ".py",
   "mimetype": "text/x-python",
   "name": "python",
   "nbconvert_exporter": "python",
   "pygments_lexer": "ipython3",
   "version": "3.12.2"
  }
 },
 "nbformat": 4,
 "nbformat_minor": 2
}
